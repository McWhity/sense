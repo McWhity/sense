{
 "cells": [
  {
   "cell_type": "markdown",
   "metadata": {},
   "source": [
    "# Example 1: Use of surface model Oh92 and canopy model SSRT"
   ]
  },
  {
   "cell_type": "markdown",
   "metadata": {},
   "source": [
    "## 1. Requirements\n",
    "\n",
    "- Installation of SenSE"
   ]
  },
  {
   "cell_type": "markdown",
   "metadata": {},
   "source": [
    "## 2. Oh92+SSRT retrieval of soil moisture"
   ]
  },
  {
   "cell_type": "code",
   "execution_count": 1,
   "metadata": {},
   "outputs": [],
   "source": [
    "import numpy as np\n",
    "#from sense.surface import Dubois95, Oh92\n",
    "from sense.util import f2lam\n",
    "from sense.model import RTModel\n",
    "from sense.soil import Soil\n",
    "from sense.canopy import OneLayer\n",
    "import matplotlib.pyplot as plt\n",
    "import random\n",
    "from sense.surface import Oh92, Oh04\n",
    "from scipy.optimize import minimize\n",
    "import pdb"
   ]
  },
  {
   "cell_type": "code",
   "execution_count": 2,
   "metadata": {},
   "outputs": [],
   "source": [
    "#### Choose models\n",
    "#-----------------\n",
    "canopy = 'turbid_isotropic'\n",
    "surface = 'Oh92'\n",
    "models = {'surface' : surface, 'canopy' : canopy}\n",
    "pol='vv'"
   ]
  },
  {
   "cell_type": "code",
   "execution_count": 3,
   "metadata": {},
   "outputs": [],
   "source": [
    "# model parameter Oh92\n",
    "#-----------------\n",
    "freq = 5.405\n",
    "clay = 0.0738\n",
    "sand = 0.2408\n",
    "bulk = 1.45\n",
    "theta = np.deg2rad(35)\n",
    "s = 0.013\n",
    "sm = np.random.uniform(low=0.05, high=0.35, size=(50,))"
   ]
  },
  {
   "cell_type": "code",
   "execution_count": 4,
   "metadata": {},
   "outputs": [],
   "source": [
    "# model parameter SSRT\n",
    "#-----------------\n",
    "d = 0.55\n",
    "tau = 0.45\n",
    "ke = tau/d\n",
    "omega = 0.175\n",
    "ks=omega*ke\n"
   ]
  },
  {
   "cell_type": "code",
   "execution_count": 5,
   "metadata": {},
   "outputs": [],
   "source": [
    "# run model to produce backscatter\n",
    "#-----------------\n",
    "S = Soil(f=freq, s=s, mv=sm, sand=sand, clay=clay, bulk=bulk)\n",
    "C = OneLayer(ke_h=ke, ke_v=ke, d=d, ks_v=ks, ks_h=ks, canopy=models['canopy'])\n",
    "RT = RTModel(theta=theta, models=models, surface=S, canopy=C, freq=freq)\n",
    "RT.sigma0()\n",
    "back_vv = RT.stot['vv']\n",
    "back_hv = RT.stot['hv']"
   ]
  },
  {
   "cell_type": "code",
   "execution_count": 6,
   "metadata": {},
   "outputs": [],
   "source": [
    "# helper function retrieval\n",
    "#-----------------\n",
    "def run_model(dic, models):\n",
    "    # surface\n",
    "    soil = Soil(mv=dic['mv'], s=dic['s'], clay=dic['clay'], sand=dic['sand'], f=dic['f'], bulk=dic['bulk'])\n",
    "\n",
    "    # canopy\n",
    "    can = OneLayer(canopy=dic['canopy'], ke_h=dic['ke'], ke_v=dic['ke'], d=dic['d'], ks_h = dic['omega']*dic['ke'],\n",
    "                   ks_v = dic['omega']*dic['ke'])\n",
    "\n",
    "    S = RTModel(surface=soil, canopy=can, models=models, theta=dic['theta'], freq=dic['f'])\n",
    "    S.sigma0()\n",
    "    return S.__dict__['stot']['vv'[::-1]], S.__dict__['stot']['vh'[::-1]]\n",
    "\n",
    "def solve_fun(VALS, var_opt, dic, models):\n",
    "\n",
    "    for i in range(len(var_opt)):\n",
    "        dic[var_opt[i]] = VALS[i]\n",
    "\n",
    "    vv, vh = run_model(dic, models)\n",
    "\n",
    "    return vv, vh\n",
    "\n",
    "def fun_opt(VALS, var_opt, dic, models, pol):\n",
    "    if pol == 'vv':\n",
    "        return(np.nansum(np.square(solve_fun(VALS, var_opt, dic, models)[0]-dic['vv'])))\n",
    "    elif pol == 'vh':\n",
    "        return(np.nansum(np.square(solve_fun(VALS, var_opt, dic, models)[1]-dic['vh'])))\n",
    "    elif pol == 'vv_vh':\n",
    "        return(np.nansum(np.square((solve_fun(VALS, var_opt, dic, models)[0]-dic['vv'])/2+(solve_fun(VALS, var_opt, dic, models)[1]-dic['vh'])/2)))"
   ]
  },
  {
   "cell_type": "code",
   "execution_count": 7,
   "metadata": {},
   "outputs": [],
   "source": [
    "# run soil moisture retrieval\n",
    "#-----------------\n",
    "\n",
    "dic = {\"mv\":0.2, \"s\":s, \"clay\":clay, \"sand\":sand, \"f\":freq, \"bulk\":bulk, \"canopy\":canopy, \"d\":d, \n",
    "       \"ke\":ke, \"vv\":back_vv, \"vh\":back_hv, \"theta\":theta, \"omega\": omega}\n",
    "\n",
    "var_opt = ['mv']\n",
    "guess = [0.2]\n",
    "bounds = [(0.05,0.35)]\n",
    "\n",
    "method = 'L-BFGS-B'\n",
    "\n",
    "sm_retrieved = []\n",
    "\n",
    "for i,ii in enumerate(back_vv):\n",
    "    \n",
    "    dic = {\"mv\":0.2, \"s\":s, \"clay\":clay, \"sand\":sand, \"f\":freq, \"bulk\":bulk, \"canopy\":canopy, \"d\":d, \n",
    "       \"ke\":ke, \"vv\":back_vv[i], \"vh\":back_hv[i], \"theta\":theta, \"omega\": omega}\n",
    "    \n",
    "    res = minimize(fun_opt,guess,args=(var_opt, dic, models, pol),bounds=bounds, method=method)\n",
    "\n",
    "    fun_opt(res.x, var_opt, dic, models, 'vv')\n",
    "    sm_retrieved.append(res.x[0])\n"
   ]
  },
  {
   "cell_type": "code",
   "execution_count": 8,
   "metadata": {},
   "outputs": [
    {
     "name": "stdout",
     "output_type": "stream",
     "text": [
      "[ 6.59330364e-06  3.07387396e-05 -1.64056693e-05  1.26983242e-06\n",
      "  1.59499940e-05  6.26880566e-06  1.51476691e-04  1.82387528e-05\n",
      "  1.19301459e-06  3.88467200e-05  4.58888086e-06  8.67545295e-06\n",
      "  2.53841100e-05  1.62021203e-05  4.35594912e-06  1.95046970e-05\n",
      "  1.85616690e-05  1.74444353e-04  4.85911293e-05 -5.68510333e-06\n",
      " -9.97495284e-06  4.40446923e-05  2.19569464e-05 -6.49517331e-06\n",
      "  3.60644372e-05  2.20953377e-06 -8.19768433e-06 -1.48786469e-06\n",
      "  1.16335317e-04  1.52661750e-05 -6.06365025e-06 -6.37658096e-06\n",
      " -9.41156403e-06  1.37811644e-05  1.08180119e-04  1.25106158e-06\n",
      " -1.26556797e-05 -1.28062762e-05  2.77727528e-05 -8.58538885e-06\n",
      " -8.22013037e-06  1.86317181e-05 -3.80880104e-06  1.86729943e-06\n",
      " -1.27028686e-05  5.38805515e-05  6.44892535e-06  2.94535935e-05\n",
      "  4.78866799e-06 -1.66380938e-06]\n",
      "2.446716736412141e-05\n"
     ]
    }
   ],
   "source": [
    "diff = sm - sm_retrieved\n",
    "diff_average = np.sum(abs(diff))/len(diff)\n",
    "print(diff)\n",
    "print(diff_average)"
   ]
  },
  {
   "cell_type": "code",
   "execution_count": null,
   "metadata": {},
   "outputs": [],
   "source": []
  }
 ],
 "metadata": {
  "kernelspec": {
   "display_name": "Python 3 (ipykernel)",
   "language": "python",
   "name": "python3"
  },
  "language_info": {
   "codemirror_mode": {
    "name": "ipython",
    "version": 3
   },
   "file_extension": ".py",
   "mimetype": "text/x-python",
   "name": "python",
   "nbconvert_exporter": "python",
   "pygments_lexer": "ipython3",
   "version": "3.10.9"
  }
 },
 "nbformat": 4,
 "nbformat_minor": 2
}
